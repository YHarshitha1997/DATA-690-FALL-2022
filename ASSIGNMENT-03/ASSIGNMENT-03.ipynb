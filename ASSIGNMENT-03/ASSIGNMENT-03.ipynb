{
 "cells": [
  {
   "cell_type": "markdown",
   "id": "579587d4",
   "metadata": {},
   "source": [
    "## 1. Print a random 10 by 10 matrix"
   ]
  },
  {
   "cell_type": "code",
   "execution_count": 10,
   "id": "8fa75d60",
   "metadata": {},
   "outputs": [
    {
     "name": "stdout",
     "output_type": "stream",
     "text": [
      "3 6 6 2 0 9 3 0 0 7 \n",
      "7 3 4 5 4 0 0 1 8 3 \n",
      "7 5 5 2 3 7 2 3 7 5 \n",
      "8 7 0 1 4 6 2 0 0 1 \n",
      "7 4 0 3 4 6 3 8 2 3 \n",
      "7 6 1 5 2 6 6 9 2 7 \n",
      "4 3 7 3 1 3 3 6 1 6 \n",
      "3 1 5 5 3 6 1 9 6 6 \n",
      "5 7 2 2 6 8 1 0 2 8 \n",
      "0 3 6 5 1 5 1 6 6 3 \n"
     ]
    }
   ],
   "source": [
    "import numpy as np\n",
    "for i in range(10):\n",
    "    for j in range(10):\n",
    "        print(np.random.randint(10), end=\" \")\n",
    "        j+=1\n",
    "    i+=1\n",
    "    print(\"\\n\", end=\"\")"
   ]
  },
  {
   "cell_type": "markdown",
   "id": "a5a6f800",
   "metadata": {},
   "source": [
    "## 2. If the random number is an odd number, print \"@\" instead"
   ]
  },
  {
   "cell_type": "code",
   "execution_count": 11,
   "id": "aae2cdcd",
   "metadata": {},
   "outputs": [
    {
     "name": "stdout",
     "output_type": "stream",
     "text": [
      "0 4 @ @ @ 6 @ 2 2 4 \n",
      "@ @ 4 @ @ 6 @ @ @ @ \n",
      "@ @ 6 @ @ 8 @ @ 2 @ \n",
      "4 @ 6 @ @ 8 @ @ 2 6 \n",
      "@ @ 8 @ @ @ 4 6 6 8 \n",
      "@ @ @ @ 6 @ @ @ @ 6 \n",
      "8 @ 8 @ 6 8 8 @ 6 6 \n",
      "@ @ 6 @ 6 2 @ 6 4 @ \n",
      "@ @ @ @ 8 @ @ @ 8 @ \n",
      "@ @ @ @ @ 2 8 6 @ @ \n"
     ]
    }
   ],
   "source": [
    "import numpy as np\n",
    "for i in range(10):\n",
    "    for j in range(10):\n",
    "        x = np.random.randint(10)\n",
    "        \n",
    "        if x%2 == 0:\n",
    "            print(x, end=\" \")\n",
    "        else:\n",
    "            print(\"@\", end=\" \")\n",
    "        j+=1\n",
    "    i+=1\n",
    "    print(\"\\n\", end =\"\")"
   ]
  },
  {
   "cell_type": "markdown",
   "id": "994b5010",
   "metadata": {},
   "source": [
    "## 3. Calculate and Print the total of each row like the following (use \"*\" to separate the total from the numbers):"
   ]
  },
  {
   "cell_type": "code",
   "execution_count": 16,
   "id": "6abbfb50",
   "metadata": {},
   "outputs": [
    {
     "name": "stdout",
     "output_type": "stream",
     "text": [
      "0 3 4 13 21 26 29 35 41 41 * 44\n",
      "44 44 51 60 64 64 73 79 88 90 * 90\n",
      "90 91 100 100 109 110 119 124 127 135 * 139\n",
      "139 140 143 143 143 143 145 152 153 161 * 163\n",
      "163 166 170 178 184 189 196 202 208 212 * 220\n",
      "220 222 222 229 231 231 233 233 235 242 * 248\n",
      "248 252 260 267 270 278 280 289 298 304 * 309\n",
      "309 315 316 321 327 335 342 350 359 363 * 370\n",
      "370 373 382 385 392 392 396 397 405 407 * 407\n",
      "407 408 414 422 430 432 439 441 449 453 * 453\n"
     ]
    }
   ],
   "source": [
    "import numpy as np\n",
    "a = 0\n",
    "for i in range(10):\n",
    "    for j in range(10):\n",
    "        b = np.random.randint(0,10)\n",
    "        print(a, end =\" \")\n",
    "        a = a+b\n",
    "        j+=1\n",
    "    i+=1\n",
    "    print(\"*\", a)"
   ]
  },
  {
   "cell_type": "markdown",
   "id": "3a6f3596",
   "metadata": {},
   "source": [
    "## 4. Surround the matrix with asterisks (*) like the following:\n"
   ]
  },
  {
   "cell_type": "code",
   "execution_count": 23,
   "id": "01ec88d0",
   "metadata": {},
   "outputs": [
    {
     "name": "stdout",
     "output_type": "stream",
     "text": [
      "***********************\n",
      "* 6 3 3 4 3 2 9 2 6 8 *\n",
      "* 6 9 2 9 0 0 3 0 2 9 *\n",
      "* 8 4 8 1 0 4 0 8 2 6 *\n",
      "* 8 9 5 2 5 9 5 2 4 7 *\n",
      "* 2 6 1 0 8 7 4 7 9 7 *\n",
      "* 5 4 8 4 1 8 1 7 7 2 *\n",
      "* 4 5 9 7 8 9 7 6 6 8 *\n",
      "* 2 8 2 7 9 7 1 9 8 7 *\n",
      "* 3 8 5 4 2 4 9 1 0 9 *\n",
      "* 4 7 6 9 5 4 2 4 4 4 *\n",
      "***********************\n"
     ]
    }
   ],
   "source": [
    "import numpy as np\n",
    "print(\"*\"*23)\n",
    "for i in range(10):\n",
    "    print(\"*\", end=\" \")\n",
    "    for j in range(10):\n",
    "        print(np.random.randint(0,10), end=\" \")\n",
    "        j+=1\n",
    "    i+=1\n",
    "    print(\"*\")\n",
    "    print(end = \"\")\n",
    "print(\"*\"*23)\n",
    "    "
   ]
  },
  {
   "cell_type": "markdown",
   "id": "d1184150",
   "metadata": {},
   "source": [
    "## 5. Calculate and Print the total of each row and column like the following:"
   ]
  },
  {
   "cell_type": "code",
   "execution_count": 29,
   "id": "40bf2082",
   "metadata": {},
   "outputs": [
    {
     "name": "stdout",
     "output_type": "stream",
     "text": [
      "1  7  6  8  4  8  3  6  6  9  * 58\n",
      "3  3  2  3  2  1  8  3  3  8  * 36\n",
      "2  4  3  8  1  0  6  6  0  4  * 34\n",
      "2  6  1  4  8  7  7  9  9  7  * 60\n",
      "7  1  4  6  6  7  0  7  7  6  * 51\n",
      "2  9  9  6  5  7  1  1  2  1  * 43\n",
      "7  9  4  0  6  6  6  3  3  4  * 48\n",
      "9  0  0  9  3  9  1  6  4  1  * 42\n",
      "2  7  6  4  3  4  3  3  8  6  * 46\n",
      "2  5  8  5  3  0  2  1  0  4  * 30\n",
      "* * * * * * * * * * * * * * \n",
      "37 51 43 53 41 49 37 45 42 50 "
     ]
    }
   ],
   "source": [
    "import numpy\n",
    "matrix = [ ]\n",
    "k = [ ]\n",
    "for i in range(10):\n",
    "    c = [ ]\n",
    "    for j in range(10):\n",
    "        c.append(np.random.randint(0,10))\n",
    "    matrix.append(c)\n",
    "for i in range(10):\n",
    "    x = 0\n",
    "    m = 0\n",
    "    for j in range(10):\n",
    "        print(matrix[i][j], end=\"  \")\n",
    "        x = x+matrix[i][j]\n",
    "        m = m+matrix[j][i]\n",
    "    k.append(m)\n",
    "    print(\"*\",x)\n",
    "print(\"* \"*14)\n",
    "for i in range(len(k)):\n",
    "    print(k[i], end= \" \")"
   ]
  },
  {
   "cell_type": "code",
   "execution_count": null,
   "id": "c55e7363",
   "metadata": {},
   "outputs": [],
   "source": []
  }
 ],
 "metadata": {
  "kernelspec": {
   "display_name": "Python 3",
   "language": "python",
   "name": "python3"
  },
  "language_info": {
   "codemirror_mode": {
    "name": "ipython",
    "version": 3
   },
   "file_extension": ".py",
   "mimetype": "text/x-python",
   "name": "python",
   "nbconvert_exporter": "python",
   "pygments_lexer": "ipython3",
   "version": "3.8.8"
  }
 },
 "nbformat": 4,
 "nbformat_minor": 5
}
