{
 "cells": [
  {
   "cell_type": "markdown",
   "metadata": {
    "id": "02rFSC_-6zKz"
   },
   "source": [
    "## Assignment 06\n",
    "### Note:\n",
    "- For visualization, you should use Matplotlib, seaborn, or Plotly Express \n",
    "- Use this notebook as your template and follow the instructions\n",
    "\n",
    "The first half of this assignment is similar to assignment 04.\n",
    "\n",
    "This gives you a chance to refresh.\n",
    "\n",
    "The second half is new and gives you a chance to perform additional practices.\n",
    "\n",
    "You also get a chance to use some of the Python libraries and techniques.\n",
    "\n",
    "The links to the zip file is:\n",
    "\n",
    "- https://collegescorecard.ed.gov/data (This web page contains the link to the zip file)\n",
    "\n",
    "- https://ed-public-download.app.cloud.gov/downloads/CollegeScorecard_Raw_Data_09012022.zip (The link to the zip file)\n",
    "\n",
    "You can run `!wget` command in Colab notebook to retrieve it directly, then run `!unzip` command to extract files (I have provided the cells to do so next for your convenience)\n",
    "\n",
    "Your folder structure should look like this in your Colab enviroment:\n",
    "\n",
    "- ...\n",
    "- 'MERGED1996_97_PP.csv',\n",
    "- 'MERGED2015_16_PP.csv',\n",
    "- ...\n",
    "- 'MERGED2017_18_PP.csv'\n",
    "- ...\n",
    "\n",
    "**Note: you should refresh the folder to see all files.**"
   ]
  },
  {
   "cell_type": "markdown",
   "metadata": {
    "id": "RemUiHBXf5EK"
   },
   "source": [
    "## Step 1 - Retrieve the zip file"
   ]
  },
  {
   "cell_type": "code",
   "execution_count": 9,
   "metadata": {},
   "outputs": [
    {
     "name": "stdout",
     "output_type": "stream",
     "text": [
      "Collecting wget\n",
      "  Downloading wget-3.2.zip (10 kB)\n",
      "Building wheels for collected packages: wget\n",
      "  Building wheel for wget (setup.py) ... \u001b[?25ldone\n",
      "\u001b[?25h  Created wheel for wget: filename=wget-3.2-py3-none-any.whl size=9680 sha256=70c3f9031f9b18ab7e3d18feb816384e367e20bd24d4afa10a2a778f2e456f48\n",
      "  Stored in directory: /Users/harshithayentrapragada/Library/Caches/pip/wheels/bd/a8/c3/3cf2c14a1837a4e04bd98631724e81f33f462d86a1d895fae0\n",
      "Successfully built wget\n",
      "Installing collected packages: wget\n",
      "Successfully installed wget-3.2\n",
      "Note: you may need to restart the kernel to use updated packages.\n"
     ]
    }
   ],
   "source": [
    "pip install wget"
   ]
  },
  {
   "cell_type": "code",
   "execution_count": 13,
   "metadata": {
    "colab": {
     "base_uri": "https://localhost:8080/"
    },
    "id": "IlnBrYreEoY2",
    "outputId": "e81bb8dd-757b-40e5-8ded-87c253ab870e",
    "scrolled": true
   },
   "outputs": [
    {
     "name": "stdout",
     "output_type": "stream",
     "text": [
      "zsh:1: command not found: wget\r\n"
     ]
    }
   ],
   "source": [
    "!wget https://ed-public-download.app.cloud.gov/downloads/CollegeScorecard_Raw_Data_09012022.zip"
   ]
  },
  {
   "cell_type": "markdown",
   "metadata": {
    "id": "mY5iKlaef_E3"
   },
   "source": [
    "## Step 2 - Unzip the zip file"
   ]
  },
  {
   "cell_type": "code",
   "execution_count": 14,
   "metadata": {
    "colab": {
     "base_uri": "https://localhost:8080/"
    },
    "id": "WXcix8Q4EWzN",
    "outputId": "70ba07af-c861-4c35-973f-0161e0f641bf"
   },
   "outputs": [
    {
     "name": "stdout",
     "output_type": "stream",
     "text": [
      "unzip:  cannot find or open CollegeScorecard_Raw_Data_09012022.zip, CollegeScorecard_Raw_Data_09012022.zip.zip or CollegeScorecard_Raw_Data_09012022.zip.ZIP.\r\n"
     ]
    }
   ],
   "source": [
    "!unzip CollegeScorecard_Raw_Data_09012022.zip"
   ]
  },
  {
   "cell_type": "markdown",
   "metadata": {
    "id": "3gWAI-4_gCs2"
   },
   "source": [
    "## Step 3 - Import Libraries"
   ]
  },
  {
   "cell_type": "code",
   "execution_count": 4,
   "metadata": {
    "id": "CfSasSG36zK1"
   },
   "outputs": [],
   "source": [
    "#(Write code below)\n",
    "import pandas as pd\n",
    "import os"
   ]
  },
  {
   "cell_type": "code",
   "execution_count": 5,
   "metadata": {
    "colab": {
     "base_uri": "https://localhost:8080/",
     "height": 363
    },
    "id": "iMpA2gPdub69",
    "outputId": "ff3583a7-fd6f-4508-ff38-9cc789a408c5"
   },
   "outputs": [
    {
     "ename": "FileNotFoundError",
     "evalue": "[Errno 2] No such file or directory: '/content/MERGED2020_21_PP.csv'",
     "output_type": "error",
     "traceback": [
      "\u001b[0;31m---------------------------------------------------------------------------\u001b[0m",
      "\u001b[0;31mFileNotFoundError\u001b[0m                         Traceback (most recent call last)",
      "\u001b[0;32m<ipython-input-5-121138bbecf7>\u001b[0m in \u001b[0;36m<module>\u001b[0;34m\u001b[0m\n\u001b[1;32m      2\u001b[0m \u001b[0;31m# Not recommended\u001b[0m\u001b[0;34m\u001b[0m\u001b[0;34m\u001b[0m\u001b[0;34m\u001b[0m\u001b[0m\n\u001b[1;32m      3\u001b[0m \u001b[0;34m\u001b[0m\u001b[0m\n\u001b[0;32m----> 4\u001b[0;31m \u001b[0mdf_2020\u001b[0m \u001b[0;34m=\u001b[0m \u001b[0mpd\u001b[0m\u001b[0;34m.\u001b[0m\u001b[0mread_csv\u001b[0m\u001b[0;34m(\u001b[0m\u001b[0;34m\"/content/MERGED2020_21_PP.csv\"\u001b[0m\u001b[0;34m,\u001b[0m \u001b[0musecols\u001b[0m\u001b[0;34m=\u001b[0m\u001b[0;34m[\u001b[0m\u001b[0;34m'UNITID'\u001b[0m\u001b[0;34m,\u001b[0m \u001b[0;34m'INSTNM'\u001b[0m\u001b[0;34m,\u001b[0m \u001b[0;34m'TUITIONFEE_IN'\u001b[0m\u001b[0;34m]\u001b[0m\u001b[0;34m)\u001b[0m\u001b[0;34m\u001b[0m\u001b[0;34m\u001b[0m\u001b[0m\n\u001b[0m\u001b[1;32m      5\u001b[0m \u001b[0mdf_2020\u001b[0m\u001b[0;34m[\u001b[0m\u001b[0;34m\"year\"\u001b[0m\u001b[0;34m]\u001b[0m \u001b[0;34m=\u001b[0m \u001b[0;36m2020\u001b[0m\u001b[0;34m\u001b[0m\u001b[0;34m\u001b[0m\u001b[0m\n\u001b[1;32m      6\u001b[0m \u001b[0mdf_2019\u001b[0m \u001b[0;34m=\u001b[0m \u001b[0mpd\u001b[0m\u001b[0;34m.\u001b[0m\u001b[0mread_csv\u001b[0m\u001b[0;34m(\u001b[0m\u001b[0;34m\"/content/MERGED2019_20_PP.csv\"\u001b[0m\u001b[0;34m,\u001b[0m \u001b[0musecols\u001b[0m\u001b[0;34m=\u001b[0m\u001b[0;34m[\u001b[0m\u001b[0;34m'UNITID'\u001b[0m\u001b[0;34m,\u001b[0m \u001b[0;34m'INSTNM'\u001b[0m\u001b[0;34m,\u001b[0m \u001b[0;34m'TUITIONFEE_IN'\u001b[0m\u001b[0;34m]\u001b[0m\u001b[0;34m)\u001b[0m\u001b[0;34m\u001b[0m\u001b[0;34m\u001b[0m\u001b[0m\n",
      "\u001b[0;32m~/opt/anaconda3/lib/python3.8/site-packages/pandas/io/parsers.py\u001b[0m in \u001b[0;36mread_csv\u001b[0;34m(filepath_or_buffer, sep, delimiter, header, names, index_col, usecols, squeeze, prefix, mangle_dupe_cols, dtype, engine, converters, true_values, false_values, skipinitialspace, skiprows, skipfooter, nrows, na_values, keep_default_na, na_filter, verbose, skip_blank_lines, parse_dates, infer_datetime_format, keep_date_col, date_parser, dayfirst, cache_dates, iterator, chunksize, compression, thousands, decimal, lineterminator, quotechar, quoting, doublequote, escapechar, comment, encoding, dialect, error_bad_lines, warn_bad_lines, delim_whitespace, low_memory, memory_map, float_precision, storage_options)\u001b[0m\n\u001b[1;32m    608\u001b[0m     \u001b[0mkwds\u001b[0m\u001b[0;34m.\u001b[0m\u001b[0mupdate\u001b[0m\u001b[0;34m(\u001b[0m\u001b[0mkwds_defaults\u001b[0m\u001b[0;34m)\u001b[0m\u001b[0;34m\u001b[0m\u001b[0;34m\u001b[0m\u001b[0m\n\u001b[1;32m    609\u001b[0m \u001b[0;34m\u001b[0m\u001b[0m\n\u001b[0;32m--> 610\u001b[0;31m     \u001b[0;32mreturn\u001b[0m \u001b[0m_read\u001b[0m\u001b[0;34m(\u001b[0m\u001b[0mfilepath_or_buffer\u001b[0m\u001b[0;34m,\u001b[0m \u001b[0mkwds\u001b[0m\u001b[0;34m)\u001b[0m\u001b[0;34m\u001b[0m\u001b[0;34m\u001b[0m\u001b[0m\n\u001b[0m\u001b[1;32m    611\u001b[0m \u001b[0;34m\u001b[0m\u001b[0m\n\u001b[1;32m    612\u001b[0m \u001b[0;34m\u001b[0m\u001b[0m\n",
      "\u001b[0;32m~/opt/anaconda3/lib/python3.8/site-packages/pandas/io/parsers.py\u001b[0m in \u001b[0;36m_read\u001b[0;34m(filepath_or_buffer, kwds)\u001b[0m\n\u001b[1;32m    460\u001b[0m \u001b[0;34m\u001b[0m\u001b[0m\n\u001b[1;32m    461\u001b[0m     \u001b[0;31m# Create the parser.\u001b[0m\u001b[0;34m\u001b[0m\u001b[0;34m\u001b[0m\u001b[0;34m\u001b[0m\u001b[0m\n\u001b[0;32m--> 462\u001b[0;31m     \u001b[0mparser\u001b[0m \u001b[0;34m=\u001b[0m \u001b[0mTextFileReader\u001b[0m\u001b[0;34m(\u001b[0m\u001b[0mfilepath_or_buffer\u001b[0m\u001b[0;34m,\u001b[0m \u001b[0;34m**\u001b[0m\u001b[0mkwds\u001b[0m\u001b[0;34m)\u001b[0m\u001b[0;34m\u001b[0m\u001b[0;34m\u001b[0m\u001b[0m\n\u001b[0m\u001b[1;32m    463\u001b[0m \u001b[0;34m\u001b[0m\u001b[0m\n\u001b[1;32m    464\u001b[0m     \u001b[0;32mif\u001b[0m \u001b[0mchunksize\u001b[0m \u001b[0;32mor\u001b[0m \u001b[0miterator\u001b[0m\u001b[0;34m:\u001b[0m\u001b[0;34m\u001b[0m\u001b[0;34m\u001b[0m\u001b[0m\n",
      "\u001b[0;32m~/opt/anaconda3/lib/python3.8/site-packages/pandas/io/parsers.py\u001b[0m in \u001b[0;36m__init__\u001b[0;34m(self, f, engine, **kwds)\u001b[0m\n\u001b[1;32m    817\u001b[0m             \u001b[0mself\u001b[0m\u001b[0;34m.\u001b[0m\u001b[0moptions\u001b[0m\u001b[0;34m[\u001b[0m\u001b[0;34m\"has_index_names\"\u001b[0m\u001b[0;34m]\u001b[0m \u001b[0;34m=\u001b[0m \u001b[0mkwds\u001b[0m\u001b[0;34m[\u001b[0m\u001b[0;34m\"has_index_names\"\u001b[0m\u001b[0;34m]\u001b[0m\u001b[0;34m\u001b[0m\u001b[0;34m\u001b[0m\u001b[0m\n\u001b[1;32m    818\u001b[0m \u001b[0;34m\u001b[0m\u001b[0m\n\u001b[0;32m--> 819\u001b[0;31m         \u001b[0mself\u001b[0m\u001b[0;34m.\u001b[0m\u001b[0m_engine\u001b[0m \u001b[0;34m=\u001b[0m \u001b[0mself\u001b[0m\u001b[0;34m.\u001b[0m\u001b[0m_make_engine\u001b[0m\u001b[0;34m(\u001b[0m\u001b[0mself\u001b[0m\u001b[0;34m.\u001b[0m\u001b[0mengine\u001b[0m\u001b[0;34m)\u001b[0m\u001b[0;34m\u001b[0m\u001b[0;34m\u001b[0m\u001b[0m\n\u001b[0m\u001b[1;32m    820\u001b[0m \u001b[0;34m\u001b[0m\u001b[0m\n\u001b[1;32m    821\u001b[0m     \u001b[0;32mdef\u001b[0m \u001b[0mclose\u001b[0m\u001b[0;34m(\u001b[0m\u001b[0mself\u001b[0m\u001b[0;34m)\u001b[0m\u001b[0;34m:\u001b[0m\u001b[0;34m\u001b[0m\u001b[0;34m\u001b[0m\u001b[0m\n",
      "\u001b[0;32m~/opt/anaconda3/lib/python3.8/site-packages/pandas/io/parsers.py\u001b[0m in \u001b[0;36m_make_engine\u001b[0;34m(self, engine)\u001b[0m\n\u001b[1;32m   1048\u001b[0m             )\n\u001b[1;32m   1049\u001b[0m         \u001b[0;31m# error: Too many arguments for \"ParserBase\"\u001b[0m\u001b[0;34m\u001b[0m\u001b[0;34m\u001b[0m\u001b[0;34m\u001b[0m\u001b[0m\n\u001b[0;32m-> 1050\u001b[0;31m         \u001b[0;32mreturn\u001b[0m \u001b[0mmapping\u001b[0m\u001b[0;34m[\u001b[0m\u001b[0mengine\u001b[0m\u001b[0;34m]\u001b[0m\u001b[0;34m(\u001b[0m\u001b[0mself\u001b[0m\u001b[0;34m.\u001b[0m\u001b[0mf\u001b[0m\u001b[0;34m,\u001b[0m \u001b[0;34m**\u001b[0m\u001b[0mself\u001b[0m\u001b[0;34m.\u001b[0m\u001b[0moptions\u001b[0m\u001b[0;34m)\u001b[0m  \u001b[0;31m# type: ignore[call-arg]\u001b[0m\u001b[0;34m\u001b[0m\u001b[0;34m\u001b[0m\u001b[0m\n\u001b[0m\u001b[1;32m   1051\u001b[0m \u001b[0;34m\u001b[0m\u001b[0m\n\u001b[1;32m   1052\u001b[0m     \u001b[0;32mdef\u001b[0m \u001b[0m_failover_to_python\u001b[0m\u001b[0;34m(\u001b[0m\u001b[0mself\u001b[0m\u001b[0;34m)\u001b[0m\u001b[0;34m:\u001b[0m\u001b[0;34m\u001b[0m\u001b[0;34m\u001b[0m\u001b[0m\n",
      "\u001b[0;32m~/opt/anaconda3/lib/python3.8/site-packages/pandas/io/parsers.py\u001b[0m in \u001b[0;36m__init__\u001b[0;34m(self, src, **kwds)\u001b[0m\n\u001b[1;32m   1865\u001b[0m \u001b[0;34m\u001b[0m\u001b[0m\n\u001b[1;32m   1866\u001b[0m         \u001b[0;31m# open handles\u001b[0m\u001b[0;34m\u001b[0m\u001b[0;34m\u001b[0m\u001b[0;34m\u001b[0m\u001b[0m\n\u001b[0;32m-> 1867\u001b[0;31m         \u001b[0mself\u001b[0m\u001b[0;34m.\u001b[0m\u001b[0m_open_handles\u001b[0m\u001b[0;34m(\u001b[0m\u001b[0msrc\u001b[0m\u001b[0;34m,\u001b[0m \u001b[0mkwds\u001b[0m\u001b[0;34m)\u001b[0m\u001b[0;34m\u001b[0m\u001b[0;34m\u001b[0m\u001b[0m\n\u001b[0m\u001b[1;32m   1868\u001b[0m         \u001b[0;32massert\u001b[0m \u001b[0mself\u001b[0m\u001b[0;34m.\u001b[0m\u001b[0mhandles\u001b[0m \u001b[0;32mis\u001b[0m \u001b[0;32mnot\u001b[0m \u001b[0;32mNone\u001b[0m\u001b[0;34m\u001b[0m\u001b[0;34m\u001b[0m\u001b[0m\n\u001b[1;32m   1869\u001b[0m         \u001b[0;32mfor\u001b[0m \u001b[0mkey\u001b[0m \u001b[0;32min\u001b[0m \u001b[0;34m(\u001b[0m\u001b[0;34m\"storage_options\"\u001b[0m\u001b[0;34m,\u001b[0m \u001b[0;34m\"encoding\"\u001b[0m\u001b[0;34m,\u001b[0m \u001b[0;34m\"memory_map\"\u001b[0m\u001b[0;34m,\u001b[0m \u001b[0;34m\"compression\"\u001b[0m\u001b[0;34m)\u001b[0m\u001b[0;34m:\u001b[0m\u001b[0;34m\u001b[0m\u001b[0;34m\u001b[0m\u001b[0m\n",
      "\u001b[0;32m~/opt/anaconda3/lib/python3.8/site-packages/pandas/io/parsers.py\u001b[0m in \u001b[0;36m_open_handles\u001b[0;34m(self, src, kwds)\u001b[0m\n\u001b[1;32m   1360\u001b[0m         \u001b[0mLet\u001b[0m \u001b[0mthe\u001b[0m \u001b[0mreaders\u001b[0m \u001b[0mopen\u001b[0m \u001b[0mIOHanldes\u001b[0m \u001b[0mafter\u001b[0m \u001b[0mthey\u001b[0m \u001b[0mare\u001b[0m \u001b[0mdone\u001b[0m \u001b[0;32mwith\u001b[0m \u001b[0mtheir\u001b[0m \u001b[0mpotential\u001b[0m \u001b[0mraises\u001b[0m\u001b[0;34m.\u001b[0m\u001b[0;34m\u001b[0m\u001b[0;34m\u001b[0m\u001b[0m\n\u001b[1;32m   1361\u001b[0m         \"\"\"\n\u001b[0;32m-> 1362\u001b[0;31m         self.handles = get_handle(\n\u001b[0m\u001b[1;32m   1363\u001b[0m             \u001b[0msrc\u001b[0m\u001b[0;34m,\u001b[0m\u001b[0;34m\u001b[0m\u001b[0;34m\u001b[0m\u001b[0m\n\u001b[1;32m   1364\u001b[0m             \u001b[0;34m\"r\"\u001b[0m\u001b[0;34m,\u001b[0m\u001b[0;34m\u001b[0m\u001b[0;34m\u001b[0m\u001b[0m\n",
      "\u001b[0;32m~/opt/anaconda3/lib/python3.8/site-packages/pandas/io/common.py\u001b[0m in \u001b[0;36mget_handle\u001b[0;34m(path_or_buf, mode, encoding, compression, memory_map, is_text, errors, storage_options)\u001b[0m\n\u001b[1;32m    640\u001b[0m                 \u001b[0merrors\u001b[0m \u001b[0;34m=\u001b[0m \u001b[0;34m\"replace\"\u001b[0m\u001b[0;34m\u001b[0m\u001b[0;34m\u001b[0m\u001b[0m\n\u001b[1;32m    641\u001b[0m             \u001b[0;31m# Encoding\u001b[0m\u001b[0;34m\u001b[0m\u001b[0;34m\u001b[0m\u001b[0;34m\u001b[0m\u001b[0m\n\u001b[0;32m--> 642\u001b[0;31m             handle = open(\n\u001b[0m\u001b[1;32m    643\u001b[0m                 \u001b[0mhandle\u001b[0m\u001b[0;34m,\u001b[0m\u001b[0;34m\u001b[0m\u001b[0;34m\u001b[0m\u001b[0m\n\u001b[1;32m    644\u001b[0m                 \u001b[0mioargs\u001b[0m\u001b[0;34m.\u001b[0m\u001b[0mmode\u001b[0m\u001b[0;34m,\u001b[0m\u001b[0;34m\u001b[0m\u001b[0;34m\u001b[0m\u001b[0m\n",
      "\u001b[0;31mFileNotFoundError\u001b[0m: [Errno 2] No such file or directory: '/content/MERGED2020_21_PP.csv'"
     ]
    }
   ],
   "source": [
    "# This is not a good practice. A lot of repetitions.\n",
    "# Not recommended\n",
    "\n",
    "df_2020 = pd.read_csv(\"/content/MERGED2020_21_PP.csv\", usecols=['UNITID', 'INSTNM', 'TUITIONFEE_IN'])\n",
    "df_2020[\"year\"] = 2020\n",
    "df_2019 = pd.read_csv(\"/content/MERGED2019_20_PP.csv\", usecols=['UNITID', 'INSTNM', 'TUITIONFEE_IN'])\n",
    "df_2019[\"year\"] = 2019\n",
    "df_all = pd.concat([df_2020, df_2019])\n",
    "df_all.sample(10)"
   ]
  },
  {
   "cell_type": "markdown",
   "metadata": {
    "id": "zNVWs_R9gKrr"
   },
   "source": [
    "## Step 4 - Display the current working directory using os.getcwd()\n",
    "\n",
    "You would need to import a standard Python library called os which stands for operating system. so place that import statement in the previous cell. Since your notebook and your data files may or may not in the same folder, you want to make sure what the current working folder is and how to access a data file in a different folder."
   ]
  },
  {
   "cell_type": "code",
   "execution_count": null,
   "metadata": {
    "colab": {
     "base_uri": "https://localhost:8080/",
     "height": 36
    },
    "id": "duwKxi1L6zK5",
    "outputId": "04424aea-c895-4197-8b13-e02ec8981dbe"
   },
   "outputs": [
    {
     "data": {
      "application/vnd.google.colaboratory.intrinsic+json": {
       "type": "string"
      },
      "text/plain": [
       "'/content'"
      ]
     },
     "execution_count": 10,
     "metadata": {},
     "output_type": "execute_result"
    }
   ],
   "source": [
    "#(Write code below)\n",
    "os.getcwd()"
   ]
  },
  {
   "cell_type": "markdown",
   "metadata": {
    "id": "SxFHpsKSgxzv"
   },
   "source": [
    "## Step 5 - Get the list of file names\n",
    "\n",
    "os library has a method call listdir which generates a list of files in a directory/folder. Use this method to assign the contents (list of file names) of the data folder to a variable and display it. If necessary, you can use ../ construct to traverse to the parent folder and then to another foloder parallel to the current folder\n"
   ]
  },
  {
   "cell_type": "code",
   "execution_count": null,
   "metadata": {
    "colab": {
     "base_uri": "https://localhost:8080/"
    },
    "id": "LMBN0HsY6zLA",
    "outputId": "0fd7aab7-9dad-48b5-9242-3b9c322d1d69"
   },
   "outputs": [
    {
     "data": {
      "text/plain": [
       "['.config',\n",
       " 'MERGED2014_15_PP.csv',\n",
       " 'MERGED2005_06_PP.csv',\n",
       " 'MERGED2004_05_PP.csv',\n",
       " 'Most-Recent-Cohorts-Institution.csv',\n",
       " 'MERGED2000_01_PP.csv',\n",
       " 'FieldOfStudyData1617_1718_PP.csv',\n",
       " 'MERGED2019_20_PP.csv',\n",
       " 'MERGED2015_16_PP.csv',\n",
       " 'MERGED2018_19_PP.csv',\n",
       " 'data.yaml',\n",
       " 'MERGED2007_08_PP.csv',\n",
       " 'FieldOfStudyData1516_1617_PP.csv',\n",
       " 'MERGED2008_09_PP.csv',\n",
       " 'FieldOfStudyData1415_1516_PP.csv',\n",
       " 'MERGED2003_04_PP.csv',\n",
       " 'MERGED2017_18_PP.csv',\n",
       " 'MERGED2016_17_PP.csv',\n",
       " 'MERGED2012_13_PP.csv',\n",
       " 'MERGED2006_07_PP.csv',\n",
       " 'MERGED1996_97_PP.csv',\n",
       " 'MERGED2002_03_PP.csv',\n",
       " 'FieldOfStudyData1718_1819_PP.csv',\n",
       " 'MERGED2013_14_PP.csv',\n",
       " 'CollegeScorecard_Raw_Data_09012022.zip',\n",
       " 'MERGED2011_12_PP.csv',\n",
       " 'MERGED2020_21_PP.csv',\n",
       " 'Crosswalks.zip',\n",
       " 'MERGED2009_10_PP.csv',\n",
       " 'MERGED1997_98_PP.csv',\n",
       " 'Most-Recent-Cohorts-Field-of-Study.csv',\n",
       " 'MERGED1999_00_PP.csv',\n",
       " 'MERGED2010_11_PP.csv',\n",
       " 'MERGED1998_99_PP.csv',\n",
       " 'MERGED2001_02_PP.csv',\n",
       " 'sample_data']"
      ]
     },
     "execution_count": 19,
     "metadata": {},
     "output_type": "execute_result"
    }
   ],
   "source": [
    "#(Write code below)\n",
    "name_list = os.listdir()\n",
    "name_list"
   ]
  },
  {
   "cell_type": "markdown",
   "metadata": {
    "id": "XtKgf-SMhL0z"
   },
   "source": [
    "## Step 6 - Process only the yearly data files\n",
    "\n",
    "The folder contains files that are not the yearly data files. Write code to remove the unwanted files from the list variable.\n",
    "\n",
    "Note: don't remove/delete these files from the folder in the folder.\n",
    "For example, use the file extension to only use the csv files or use the name patter - data file name begins with \"MERGED\". You can use the concept of list comprehension to write just *one* line of code as well as using a for loop, your choice."
   ]
  },
  {
   "cell_type": "code",
   "execution_count": null,
   "metadata": {
    "colab": {
     "base_uri": "https://localhost:8080/"
    },
    "id": "UCDRqtrf6zLL",
    "outputId": "2da4c771-ac14-401e-d537-a4ab31bf2ae3"
   },
   "outputs": [
    {
     "data": {
      "text/plain": [
       "[1, 9, 36, 64]"
      ]
     },
     "execution_count": 13,
     "metadata": {},
     "output_type": "execute_result"
    }
   ],
   "source": [
    "#(Write code below)\n",
    "# using loop\n",
    "x = [1,3,6,8]\n",
    "y = []\n",
    "for num in x:\n",
    "    y.append(num ** 2)\n",
    "\n",
    "y"
   ]
  },
  {
   "cell_type": "code",
   "execution_count": null,
   "metadata": {
    "colab": {
     "base_uri": "https://localhost:8080/"
    },
    "id": "OsTZMRfjzpwB",
    "outputId": "6c0fd50d-035f-4f7a-cc18-cedc9f95b27c"
   },
   "outputs": [
    {
     "data": {
      "text/plain": [
       "[36, 64]"
      ]
     },
     "execution_count": 18,
     "metadata": {},
     "output_type": "execute_result"
    }
   ],
   "source": [
    "# using loop with condition\n",
    "x = [1,3,6,8]\n",
    "y = []\n",
    "\n",
    "for num in x:\n",
    "    if num % 2 == 0:\n",
    "       y.append(num ** 2)\n",
    "\n",
    "y"
   ]
  },
  {
   "cell_type": "code",
   "execution_count": null,
   "metadata": {
    "colab": {
     "base_uri": "https://localhost:8080/"
    },
    "id": "5eISR8FjyzyH",
    "outputId": "05cf59d3-b9b9-4435-f454-aebbbd914594"
   },
   "outputs": [
    {
     "data": {
      "text/plain": [
       "[1, 9, 36, 64]"
      ]
     },
     "execution_count": 15,
     "metadata": {},
     "output_type": "execute_result"
    }
   ],
   "source": [
    "# using List comprehension\n",
    "y = [num **2 for num in x]\n",
    "y"
   ]
  },
  {
   "cell_type": "code",
   "execution_count": null,
   "metadata": {
    "colab": {
     "base_uri": "https://localhost:8080/"
    },
    "id": "B6k0ES8GzZQ8",
    "outputId": "e22dc168-3562-498a-dc28-89da130ba6d3"
   },
   "outputs": [
    {
     "data": {
      "text/plain": [
       "[36, 64]"
      ]
     },
     "execution_count": 16,
     "metadata": {},
     "output_type": "execute_result"
    }
   ],
   "source": [
    "# using List comprehension with condition\n",
    "y = [num **2 for num in x if num % 2 == 0]\n",
    "y"
   ]
  },
  {
   "cell_type": "code",
   "execution_count": null,
   "metadata": {
    "colab": {
     "base_uri": "https://localhost:8080/"
    },
    "id": "j08cIjcf0ZCw",
    "outputId": "9ce393a5-f00d-4a15-fefd-bf1940fc2ce0"
   },
   "outputs": [
    {
     "data": {
      "text/plain": [
       "['MERGED2014_15_PP.csv',\n",
       " 'MERGED2005_06_PP.csv',\n",
       " 'MERGED2004_05_PP.csv',\n",
       " 'MERGED2000_01_PP.csv',\n",
       " 'MERGED2019_20_PP.csv',\n",
       " 'MERGED2015_16_PP.csv',\n",
       " 'MERGED2018_19_PP.csv',\n",
       " 'MERGED2007_08_PP.csv',\n",
       " 'MERGED2008_09_PP.csv',\n",
       " 'MERGED2003_04_PP.csv',\n",
       " 'MERGED2017_18_PP.csv',\n",
       " 'MERGED2016_17_PP.csv',\n",
       " 'MERGED2012_13_PP.csv',\n",
       " 'MERGED2006_07_PP.csv',\n",
       " 'MERGED1996_97_PP.csv',\n",
       " 'MERGED2002_03_PP.csv',\n",
       " 'MERGED2013_14_PP.csv',\n",
       " 'MERGED2011_12_PP.csv',\n",
       " 'MERGED2020_21_PP.csv',\n",
       " 'MERGED2009_10_PP.csv',\n",
       " 'MERGED1997_98_PP.csv',\n",
       " 'MERGED1999_00_PP.csv',\n",
       " 'MERGED2010_11_PP.csv',\n",
       " 'MERGED1998_99_PP.csv',\n",
       " 'MERGED2001_02_PP.csv']"
      ]
     },
     "execution_count": 23,
     "metadata": {},
     "output_type": "execute_result"
    }
   ],
   "source": [
    "yearly_list = [file_name for file_name in name_list if file_name.startswith(\"MERGED\")]\n",
    "\n",
    "yearly_list"
   ]
  },
  {
   "cell_type": "markdown",
   "metadata": {
    "id": "UbrfZBRThtG8"
   },
   "source": [
    "## Step 7 - Load data files\n",
    " \n",
    "Now that you have a clean list of the yearly files, you want to loop through them and read them into a dataframe one at a time. You only load six columns: [\"UNITID\", \"INSTNM\", \"STABBR\", \"REGION\", \"ADM_RATE\", \"TUITIONFEE_IN\"].\n",
    "\n",
    "You should use \"usecols\" option of Pandas to avoid reading unwanted columns. You also want to add a new column call \"YEAR\" to differentiate the data frames from each other. The YEAR variable should be yyyy format so tht you can convert them into integer. If you use the format yyyy-yy (such as 1997-98 school year), you will not be able to convert them directly to integer. If you use scatter plot, the YEAR needs to be converted to integer or float. \n",
    "\n",
    "You would use an empty list and append the yearly dataframes to the list. After all data files are loaded and appended to the list, you would use Pandas to concatenate them into a new single data frame.\n",
    "\n",
    "Note: this exercise incorporates many techques we learned before:\n",
    "\n",
    "- list (creating an empty, append an item to the list)\n",
    "- for loop \n",
    "- read only the needed columns from a file (using usecols option)\n",
    "- add a new column to a data frame\n",
    "- concatenate multiple dataframes into a single one\n",
    "\n",
    "This exercise may appear challenging but it worths the effort. You will learn a lot and love it. I promise."
   ]
  },
  {
   "cell_type": "code",
   "execution_count": null,
   "metadata": {
    "colab": {
     "base_uri": "https://localhost:8080/",
     "height": 36
    },
    "id": "4JleOHyl2QP6",
    "outputId": "51338508-edae-490d-bc5f-5cdcb56de42c"
   },
   "outputs": [
    {
     "data": {
      "application/vnd.google.colaboratory.intrinsic+json": {
       "type": "string"
      },
      "text/plain": [
       "'2020'"
      ]
     },
     "execution_count": 25,
     "metadata": {},
     "output_type": "execute_result"
    }
   ],
   "source": [
    "x = \"MERGED2020_21_PP.csv\"\n",
    "\n",
    "x[6:10]"
   ]
  },
  {
   "cell_type": "code",
   "execution_count": null,
   "metadata": {
    "colab": {
     "base_uri": "https://localhost:8080/"
    },
    "id": "rtrB8C_R6zLS",
    "outputId": "ddae0828-954d-4a3c-9211-4d79c232f79e"
   },
   "outputs": [
    {
     "name": "stdout",
     "output_type": "stream",
     "text": [
      "processing file MERGED1996_97_PP.csv\n",
      "(7007, 4)\n",
      "processing file MERGED1997_98_PP.csv\n",
      "(13941, 4)\n",
      "processing file MERGED1998_99_PP.csv\n",
      "(20643, 4)\n",
      "processing file MERGED1999_00_PP.csv\n",
      "(27252, 4)\n",
      "processing file MERGED2000_01_PP.csv\n",
      "(33906, 4)\n",
      "processing file MERGED2001_02_PP.csv\n",
      "(40631, 4)\n",
      "processing file MERGED2002_03_PP.csv\n",
      "(47283, 4)\n",
      "processing file MERGED2003_04_PP.csv\n",
      "(53956, 4)\n",
      "processing file MERGED2004_05_PP.csv\n",
      "(60703, 4)\n",
      "processing file MERGED2005_06_PP.csv\n",
      "(67602, 4)\n",
      "processing file MERGED2006_07_PP.csv\n",
      "(74553, 4)\n",
      "processing file MERGED2007_08_PP.csv\n",
      "(81524, 4)\n",
      "processing file MERGED2008_09_PP.csv\n",
      "(88579, 4)\n",
      "processing file MERGED2009_10_PP.csv\n",
      "(95796, 4)\n",
      "processing file MERGED2010_11_PP.csv\n",
      "(103266, 4)\n",
      "processing file MERGED2011_12_PP.csv\n",
      "(111012, 4)\n",
      "processing file MERGED2012_13_PP.csv\n",
      "(118874, 4)\n",
      "processing file MERGED2013_14_PP.csv\n",
      "(126743, 4)\n",
      "processing file MERGED2014_15_PP.csv\n",
      "(134509, 4)\n",
      "processing file MERGED2015_16_PP.csv\n",
      "(142175, 4)\n",
      "processing file MERGED2016_17_PP.csv\n",
      "(149413, 4)\n",
      "processing file MERGED2017_18_PP.csv\n",
      "(156525, 4)\n",
      "processing file MERGED2018_19_PP.csv\n",
      "(163332, 4)\n",
      "processing file MERGED2019_20_PP.csv\n",
      "(170026, 4)\n",
      "processing file MERGED2020_21_PP.csv\n",
      "(176707, 4)\n"
     ]
    }
   ],
   "source": [
    "#(Write code here)\n",
    "\n",
    "# df_all = pd.DataFrame()  this empty dataframe does not work for the append method.\n",
    "\n",
    "yearly_list.sort()\n",
    "\n",
    "print(\"processing file\", yearly_list[0])\n",
    "df_all = pd.read_csv(\"/content/\" + yearly_list[0], usecols=['UNITID', 'INSTNM', 'TUITIONFEE_IN'])\n",
    "df_all[\"year\"] = yearly_list[0][6:10]\n",
    "print(df_all.shape)\n",
    "\n",
    "for yearly_file in yearly_list[1:]:\n",
    "    print(\"processing file\", yearly_file)\n",
    "    df = pd.read_csv(\"/content/\" + yearly_file, usecols=['UNITID', 'INSTNM', 'TUITIONFEE_IN'])\n",
    "    df[\"year\"] = yearly_file[6:10]\n",
    "    df_all = df_all.append(df, ignore_index = True)\n",
    "    print(df_all.shape)\n",
    "\n"
   ]
  },
  {
   "cell_type": "code",
   "execution_count": null,
   "metadata": {
    "colab": {
     "base_uri": "https://localhost:8080/",
     "height": 363
    },
    "id": "RRT2MkA26gkL",
    "outputId": "c02bcceb-f602-42ec-c17c-dd4454dd5533"
   },
   "outputs": [
    {
     "data": {
      "text/html": [
       "\n",
       "  <div id=\"df-9bd944c3-9057-49a2-bd24-cd5beb361e34\">\n",
       "    <div class=\"colab-df-container\">\n",
       "      <div>\n",
       "<style scoped>\n",
       "    .dataframe tbody tr th:only-of-type {\n",
       "        vertical-align: middle;\n",
       "    }\n",
       "\n",
       "    .dataframe tbody tr th {\n",
       "        vertical-align: top;\n",
       "    }\n",
       "\n",
       "    .dataframe thead th {\n",
       "        text-align: right;\n",
       "    }\n",
       "</style>\n",
       "<table border=\"1\" class=\"dataframe\">\n",
       "  <thead>\n",
       "    <tr style=\"text-align: right;\">\n",
       "      <th></th>\n",
       "      <th>UNITID</th>\n",
       "      <th>INSTNM</th>\n",
       "      <th>TUITIONFEE_IN</th>\n",
       "      <th>year</th>\n",
       "    </tr>\n",
       "  </thead>\n",
       "  <tbody>\n",
       "    <tr>\n",
       "      <th>161756</th>\n",
       "      <td>456588</td>\n",
       "      <td>Salon Success Academy-Fontana</td>\n",
       "      <td>NaN</td>\n",
       "      <td>2018</td>\n",
       "    </tr>\n",
       "    <tr>\n",
       "      <th>85986</th>\n",
       "      <td>239460</td>\n",
       "      <td>Northcentral Technical College</td>\n",
       "      <td>3186.0</td>\n",
       "      <td>2008</td>\n",
       "    </tr>\n",
       "    <tr>\n",
       "      <th>37910</th>\n",
       "      <td>217235</td>\n",
       "      <td>Johnson &amp; Wales University-Providence</td>\n",
       "      <td>17493.0</td>\n",
       "      <td>2001</td>\n",
       "    </tr>\n",
       "    <tr>\n",
       "      <th>20303</th>\n",
       "      <td>420246</td>\n",
       "      <td>Southwest College of Naturopathic Medicine &amp; H...</td>\n",
       "      <td>NaN</td>\n",
       "      <td>1998</td>\n",
       "    </tr>\n",
       "    <tr>\n",
       "      <th>9324</th>\n",
       "      <td>170286</td>\n",
       "      <td>Hillsdale College</td>\n",
       "      <td>NaN</td>\n",
       "      <td>1997</td>\n",
       "    </tr>\n",
       "    <tr>\n",
       "      <th>110320</th>\n",
       "      <td>459277</td>\n",
       "      <td>Aveda Institute-Denver</td>\n",
       "      <td>NaN</td>\n",
       "      <td>2011</td>\n",
       "    </tr>\n",
       "    <tr>\n",
       "      <th>56989</th>\n",
       "      <td>198367</td>\n",
       "      <td>Craven Community College</td>\n",
       "      <td>1440.0</td>\n",
       "      <td>2004</td>\n",
       "    </tr>\n",
       "    <tr>\n",
       "      <th>10049</th>\n",
       "      <td>188933</td>\n",
       "      <td>PRATT MANHATTAN-A DIVISION OF PRATT INSTITUTE</td>\n",
       "      <td>NaN</td>\n",
       "      <td>1997</td>\n",
       "    </tr>\n",
       "    <tr>\n",
       "      <th>163194</th>\n",
       "      <td>41829602</td>\n",
       "      <td>Indian Capital Technology Center-Stilwell</td>\n",
       "      <td>NaN</td>\n",
       "      <td>2018</td>\n",
       "    </tr>\n",
       "    <tr>\n",
       "      <th>89783</th>\n",
       "      <td>148380</td>\n",
       "      <td>Rock Valley College</td>\n",
       "      <td>2220.0</td>\n",
       "      <td>2009</td>\n",
       "    </tr>\n",
       "  </tbody>\n",
       "</table>\n",
       "</div>\n",
       "      <button class=\"colab-df-convert\" onclick=\"convertToInteractive('df-9bd944c3-9057-49a2-bd24-cd5beb361e34')\"\n",
       "              title=\"Convert this dataframe to an interactive table.\"\n",
       "              style=\"display:none;\">\n",
       "        \n",
       "  <svg xmlns=\"http://www.w3.org/2000/svg\" height=\"24px\"viewBox=\"0 0 24 24\"\n",
       "       width=\"24px\">\n",
       "    <path d=\"M0 0h24v24H0V0z\" fill=\"none\"/>\n",
       "    <path d=\"M18.56 5.44l.94 2.06.94-2.06 2.06-.94-2.06-.94-.94-2.06-.94 2.06-2.06.94zm-11 1L8.5 8.5l.94-2.06 2.06-.94-2.06-.94L8.5 2.5l-.94 2.06-2.06.94zm10 10l.94 2.06.94-2.06 2.06-.94-2.06-.94-.94-2.06-.94 2.06-2.06.94z\"/><path d=\"M17.41 7.96l-1.37-1.37c-.4-.4-.92-.59-1.43-.59-.52 0-1.04.2-1.43.59L10.3 9.45l-7.72 7.72c-.78.78-.78 2.05 0 2.83L4 21.41c.39.39.9.59 1.41.59.51 0 1.02-.2 1.41-.59l7.78-7.78 2.81-2.81c.8-.78.8-2.07 0-2.86zM5.41 20L4 18.59l7.72-7.72 1.47 1.35L5.41 20z\"/>\n",
       "  </svg>\n",
       "      </button>\n",
       "      \n",
       "  <style>\n",
       "    .colab-df-container {\n",
       "      display:flex;\n",
       "      flex-wrap:wrap;\n",
       "      gap: 12px;\n",
       "    }\n",
       "\n",
       "    .colab-df-convert {\n",
       "      background-color: #E8F0FE;\n",
       "      border: none;\n",
       "      border-radius: 50%;\n",
       "      cursor: pointer;\n",
       "      display: none;\n",
       "      fill: #1967D2;\n",
       "      height: 32px;\n",
       "      padding: 0 0 0 0;\n",
       "      width: 32px;\n",
       "    }\n",
       "\n",
       "    .colab-df-convert:hover {\n",
       "      background-color: #E2EBFA;\n",
       "      box-shadow: 0px 1px 2px rgba(60, 64, 67, 0.3), 0px 1px 3px 1px rgba(60, 64, 67, 0.15);\n",
       "      fill: #174EA6;\n",
       "    }\n",
       "\n",
       "    [theme=dark] .colab-df-convert {\n",
       "      background-color: #3B4455;\n",
       "      fill: #D2E3FC;\n",
       "    }\n",
       "\n",
       "    [theme=dark] .colab-df-convert:hover {\n",
       "      background-color: #434B5C;\n",
       "      box-shadow: 0px 1px 3px 1px rgba(0, 0, 0, 0.15);\n",
       "      filter: drop-shadow(0px 1px 2px rgba(0, 0, 0, 0.3));\n",
       "      fill: #FFFFFF;\n",
       "    }\n",
       "  </style>\n",
       "\n",
       "      <script>\n",
       "        const buttonEl =\n",
       "          document.querySelector('#df-9bd944c3-9057-49a2-bd24-cd5beb361e34 button.colab-df-convert');\n",
       "        buttonEl.style.display =\n",
       "          google.colab.kernel.accessAllowed ? 'block' : 'none';\n",
       "\n",
       "        async function convertToInteractive(key) {\n",
       "          const element = document.querySelector('#df-9bd944c3-9057-49a2-bd24-cd5beb361e34');\n",
       "          const dataTable =\n",
       "            await google.colab.kernel.invokeFunction('convertToInteractive',\n",
       "                                                     [key], {});\n",
       "          if (!dataTable) return;\n",
       "\n",
       "          const docLinkHtml = 'Like what you see? Visit the ' +\n",
       "            '<a target=\"_blank\" href=https://colab.research.google.com/notebooks/data_table.ipynb>data table notebook</a>'\n",
       "            + ' to learn more about interactive tables.';\n",
       "          element.innerHTML = '';\n",
       "          dataTable['output_type'] = 'display_data';\n",
       "          await google.colab.output.renderOutput(dataTable, element);\n",
       "          const docLink = document.createElement('div');\n",
       "          docLink.innerHTML = docLinkHtml;\n",
       "          element.appendChild(docLink);\n",
       "        }\n",
       "      </script>\n",
       "    </div>\n",
       "  </div>\n",
       "  "
      ],
      "text/plain": [
       "          UNITID                                             INSTNM  \\\n",
       "161756    456588                      Salon Success Academy-Fontana   \n",
       "85986     239460                     Northcentral Technical College   \n",
       "37910     217235              Johnson & Wales University-Providence   \n",
       "20303     420246  Southwest College of Naturopathic Medicine & H...   \n",
       "9324      170286                                  Hillsdale College   \n",
       "110320    459277                             Aveda Institute-Denver   \n",
       "56989     198367                           Craven Community College   \n",
       "10049     188933      PRATT MANHATTAN-A DIVISION OF PRATT INSTITUTE   \n",
       "163194  41829602          Indian Capital Technology Center-Stilwell   \n",
       "89783     148380                                Rock Valley College   \n",
       "\n",
       "        TUITIONFEE_IN  year  \n",
       "161756            NaN  2018  \n",
       "85986          3186.0  2008  \n",
       "37910         17493.0  2001  \n",
       "20303             NaN  1998  \n",
       "9324              NaN  1997  \n",
       "110320            NaN  2011  \n",
       "56989          1440.0  2004  \n",
       "10049             NaN  1997  \n",
       "163194            NaN  2018  \n",
       "89783          2220.0  2009  "
      ]
     },
     "execution_count": 37,
     "metadata": {},
     "output_type": "execute_result"
    }
   ],
   "source": [
    "df_all.sample(10)"
   ]
  },
  {
   "cell_type": "markdown",
   "metadata": {
    "id": "M-OsDFXFiZd-"
   },
   "source": [
    "## Step 8 - Explore the new dataframe \n",
    "\n",
    "For example, # of observations, varibles, head, tail, sample, missing values, statistics, etc."
   ]
  },
  {
   "cell_type": "code",
   "execution_count": null,
   "metadata": {
    "id": "riJxj3vU6zLY"
   },
   "outputs": [],
   "source": [
    "#(Write code here)\n"
   ]
  },
  {
   "cell_type": "markdown",
   "metadata": {
    "id": "odf117B-ip7D"
   },
   "source": [
    "## Step 9 - UMBC \n",
    "\n",
    "The dataframe contains many years of data of all U.S. colleges. let's just look at UMBC. Filter/query the dataframe to retrieve only rows that belong to UMBC (one row represent one year). Save the UMNC data to a new data frame. using a new variable for the UMBC data frame, so that the old big data frame is still available for later use."
   ]
  },
  {
   "cell_type": "code",
   "execution_count": null,
   "metadata": {
    "colab": {
     "base_uri": "https://localhost:8080/",
     "height": 833
    },
    "id": "NQjKoDmU6zLd",
    "outputId": "d3e2897e-6dd6-4aa3-fbfe-c46e6c3256ea"
   },
   "outputs": [
    {
     "data": {
      "text/html": [
       "\n",
       "  <div id=\"df-758c9a1b-8a9e-4d3e-88be-13104ec67b00\">\n",
       "    <div class=\"colab-df-container\">\n",
       "      <div>\n",
       "<style scoped>\n",
       "    .dataframe tbody tr th:only-of-type {\n",
       "        vertical-align: middle;\n",
       "    }\n",
       "\n",
       "    .dataframe tbody tr th {\n",
       "        vertical-align: top;\n",
       "    }\n",
       "\n",
       "    .dataframe thead th {\n",
       "        text-align: right;\n",
       "    }\n",
       "</style>\n",
       "<table border=\"1\" class=\"dataframe\">\n",
       "  <thead>\n",
       "    <tr style=\"text-align: right;\">\n",
       "      <th></th>\n",
       "      <th>UNITID</th>\n",
       "      <th>INSTNM</th>\n",
       "      <th>TUITIONFEE_IN</th>\n",
       "      <th>year</th>\n",
       "    </tr>\n",
       "  </thead>\n",
       "  <tbody>\n",
       "    <tr>\n",
       "      <th>2151</th>\n",
       "      <td>163268</td>\n",
       "      <td>University of Maryland-Baltimore County</td>\n",
       "      <td>NaN</td>\n",
       "      <td>1996</td>\n",
       "    </tr>\n",
       "    <tr>\n",
       "      <th>9056</th>\n",
       "      <td>163268</td>\n",
       "      <td>University of Maryland-Baltimore County</td>\n",
       "      <td>NaN</td>\n",
       "      <td>1997</td>\n",
       "    </tr>\n",
       "    <tr>\n",
       "      <th>15923</th>\n",
       "      <td>163268</td>\n",
       "      <td>University of Maryland-Baltimore County</td>\n",
       "      <td>NaN</td>\n",
       "      <td>1998</td>\n",
       "    </tr>\n",
       "    <tr>\n",
       "      <th>22598</th>\n",
       "      <td>163268</td>\n",
       "      <td>University of Maryland-Baltimore County</td>\n",
       "      <td>NaN</td>\n",
       "      <td>1999</td>\n",
       "    </tr>\n",
       "    <tr>\n",
       "      <th>29178</th>\n",
       "      <td>163268</td>\n",
       "      <td>University of Maryland-Baltimore County</td>\n",
       "      <td>5490.0</td>\n",
       "      <td>2000</td>\n",
       "    </tr>\n",
       "    <tr>\n",
       "      <th>35821</th>\n",
       "      <td>163268</td>\n",
       "      <td>University of Maryland-Baltimore County</td>\n",
       "      <td>5910.0</td>\n",
       "      <td>2001</td>\n",
       "    </tr>\n",
       "    <tr>\n",
       "      <th>42524</th>\n",
       "      <td>163268</td>\n",
       "      <td>University of Maryland-Baltimore County</td>\n",
       "      <td>6362.0</td>\n",
       "      <td>2002</td>\n",
       "    </tr>\n",
       "    <tr>\n",
       "      <th>49156</th>\n",
       "      <td>163268</td>\n",
       "      <td>University of Maryland-Baltimore County</td>\n",
       "      <td>7388.0</td>\n",
       "      <td>2003</td>\n",
       "    </tr>\n",
       "    <tr>\n",
       "      <th>55786</th>\n",
       "      <td>163268</td>\n",
       "      <td>University of Maryland-Baltimore County</td>\n",
       "      <td>8020.0</td>\n",
       "      <td>2004</td>\n",
       "    </tr>\n",
       "    <tr>\n",
       "      <th>62522</th>\n",
       "      <td>163268</td>\n",
       "      <td>University of Maryland-Baltimore County</td>\n",
       "      <td>8520.0</td>\n",
       "      <td>2005</td>\n",
       "    </tr>\n",
       "    <tr>\n",
       "      <th>69401</th>\n",
       "      <td>163268</td>\n",
       "      <td>University of Maryland-Baltimore County</td>\n",
       "      <td>8622.0</td>\n",
       "      <td>2006</td>\n",
       "    </tr>\n",
       "    <tr>\n",
       "      <th>76332</th>\n",
       "      <td>163268</td>\n",
       "      <td>University of Maryland-Baltimore County</td>\n",
       "      <td>8708.0</td>\n",
       "      <td>2007</td>\n",
       "    </tr>\n",
       "    <tr>\n",
       "      <th>83291</th>\n",
       "      <td>163268</td>\n",
       "      <td>University of Maryland-Baltimore County</td>\n",
       "      <td>8780.0</td>\n",
       "      <td>2008</td>\n",
       "    </tr>\n",
       "    <tr>\n",
       "      <th>90324</th>\n",
       "      <td>163268</td>\n",
       "      <td>University of Maryland-Baltimore County</td>\n",
       "      <td>8872.0</td>\n",
       "      <td>2009</td>\n",
       "    </tr>\n",
       "    <tr>\n",
       "      <th>97506</th>\n",
       "      <td>163268</td>\n",
       "      <td>University of Maryland-Baltimore County</td>\n",
       "      <td>9171.0</td>\n",
       "      <td>2010</td>\n",
       "    </tr>\n",
       "    <tr>\n",
       "      <th>104960</th>\n",
       "      <td>163268</td>\n",
       "      <td>University of Maryland-Baltimore County</td>\n",
       "      <td>9467.0</td>\n",
       "      <td>2011</td>\n",
       "    </tr>\n",
       "    <tr>\n",
       "      <th>112672</th>\n",
       "      <td>163268</td>\n",
       "      <td>University of Maryland-Baltimore County</td>\n",
       "      <td>9764.0</td>\n",
       "      <td>2012</td>\n",
       "    </tr>\n",
       "    <tr>\n",
       "      <th>120503</th>\n",
       "      <td>163268</td>\n",
       "      <td>University of Maryland-Baltimore County</td>\n",
       "      <td>10068.0</td>\n",
       "      <td>2013</td>\n",
       "    </tr>\n",
       "    <tr>\n",
       "      <th>128353</th>\n",
       "      <td>163268</td>\n",
       "      <td>University of Maryland-Baltimore County</td>\n",
       "      <td>10384.0</td>\n",
       "      <td>2014</td>\n",
       "    </tr>\n",
       "    <tr>\n",
       "      <th>136064</th>\n",
       "      <td>163268</td>\n",
       "      <td>University of Maryland-Baltimore County</td>\n",
       "      <td>11006.0</td>\n",
       "      <td>2015</td>\n",
       "    </tr>\n",
       "    <tr>\n",
       "      <th>143685</th>\n",
       "      <td>163268</td>\n",
       "      <td>University of Maryland-Baltimore County</td>\n",
       "      <td>11264.0</td>\n",
       "      <td>2016</td>\n",
       "    </tr>\n",
       "    <tr>\n",
       "      <th>150891</th>\n",
       "      <td>163268</td>\n",
       "      <td>University of Maryland-Baltimore County</td>\n",
       "      <td>11518.0</td>\n",
       "      <td>2017</td>\n",
       "    </tr>\n",
       "    <tr>\n",
       "      <th>157940</th>\n",
       "      <td>163268</td>\n",
       "      <td>University of Maryland-Baltimore County</td>\n",
       "      <td>11778.0</td>\n",
       "      <td>2018</td>\n",
       "    </tr>\n",
       "    <tr>\n",
       "      <th>164723</th>\n",
       "      <td>163268</td>\n",
       "      <td>University of Maryland-Baltimore County</td>\n",
       "      <td>12028.0</td>\n",
       "      <td>2019</td>\n",
       "    </tr>\n",
       "    <tr>\n",
       "      <th>171401</th>\n",
       "      <td>163268</td>\n",
       "      <td>University of Maryland-Baltimore County</td>\n",
       "      <td>9420.0</td>\n",
       "      <td>2020</td>\n",
       "    </tr>\n",
       "  </tbody>\n",
       "</table>\n",
       "</div>\n",
       "      <button class=\"colab-df-convert\" onclick=\"convertToInteractive('df-758c9a1b-8a9e-4d3e-88be-13104ec67b00')\"\n",
       "              title=\"Convert this dataframe to an interactive table.\"\n",
       "              style=\"display:none;\">\n",
       "        \n",
       "  <svg xmlns=\"http://www.w3.org/2000/svg\" height=\"24px\"viewBox=\"0 0 24 24\"\n",
       "       width=\"24px\">\n",
       "    <path d=\"M0 0h24v24H0V0z\" fill=\"none\"/>\n",
       "    <path d=\"M18.56 5.44l.94 2.06.94-2.06 2.06-.94-2.06-.94-.94-2.06-.94 2.06-2.06.94zm-11 1L8.5 8.5l.94-2.06 2.06-.94-2.06-.94L8.5 2.5l-.94 2.06-2.06.94zm10 10l.94 2.06.94-2.06 2.06-.94-2.06-.94-.94-2.06-.94 2.06-2.06.94z\"/><path d=\"M17.41 7.96l-1.37-1.37c-.4-.4-.92-.59-1.43-.59-.52 0-1.04.2-1.43.59L10.3 9.45l-7.72 7.72c-.78.78-.78 2.05 0 2.83L4 21.41c.39.39.9.59 1.41.59.51 0 1.02-.2 1.41-.59l7.78-7.78 2.81-2.81c.8-.78.8-2.07 0-2.86zM5.41 20L4 18.59l7.72-7.72 1.47 1.35L5.41 20z\"/>\n",
       "  </svg>\n",
       "      </button>\n",
       "      \n",
       "  <style>\n",
       "    .colab-df-container {\n",
       "      display:flex;\n",
       "      flex-wrap:wrap;\n",
       "      gap: 12px;\n",
       "    }\n",
       "\n",
       "    .colab-df-convert {\n",
       "      background-color: #E8F0FE;\n",
       "      border: none;\n",
       "      border-radius: 50%;\n",
       "      cursor: pointer;\n",
       "      display: none;\n",
       "      fill: #1967D2;\n",
       "      height: 32px;\n",
       "      padding: 0 0 0 0;\n",
       "      width: 32px;\n",
       "    }\n",
       "\n",
       "    .colab-df-convert:hover {\n",
       "      background-color: #E2EBFA;\n",
       "      box-shadow: 0px 1px 2px rgba(60, 64, 67, 0.3), 0px 1px 3px 1px rgba(60, 64, 67, 0.15);\n",
       "      fill: #174EA6;\n",
       "    }\n",
       "\n",
       "    [theme=dark] .colab-df-convert {\n",
       "      background-color: #3B4455;\n",
       "      fill: #D2E3FC;\n",
       "    }\n",
       "\n",
       "    [theme=dark] .colab-df-convert:hover {\n",
       "      background-color: #434B5C;\n",
       "      box-shadow: 0px 1px 3px 1px rgba(0, 0, 0, 0.15);\n",
       "      filter: drop-shadow(0px 1px 2px rgba(0, 0, 0, 0.3));\n",
       "      fill: #FFFFFF;\n",
       "    }\n",
       "  </style>\n",
       "\n",
       "      <script>\n",
       "        const buttonEl =\n",
       "          document.querySelector('#df-758c9a1b-8a9e-4d3e-88be-13104ec67b00 button.colab-df-convert');\n",
       "        buttonEl.style.display =\n",
       "          google.colab.kernel.accessAllowed ? 'block' : 'none';\n",
       "\n",
       "        async function convertToInteractive(key) {\n",
       "          const element = document.querySelector('#df-758c9a1b-8a9e-4d3e-88be-13104ec67b00');\n",
       "          const dataTable =\n",
       "            await google.colab.kernel.invokeFunction('convertToInteractive',\n",
       "                                                     [key], {});\n",
       "          if (!dataTable) return;\n",
       "\n",
       "          const docLinkHtml = 'Like what you see? Visit the ' +\n",
       "            '<a target=\"_blank\" href=https://colab.research.google.com/notebooks/data_table.ipynb>data table notebook</a>'\n",
       "            + ' to learn more about interactive tables.';\n",
       "          element.innerHTML = '';\n",
       "          dataTable['output_type'] = 'display_data';\n",
       "          await google.colab.output.renderOutput(dataTable, element);\n",
       "          const docLink = document.createElement('div');\n",
       "          docLink.innerHTML = docLinkHtml;\n",
       "          element.appendChild(docLink);\n",
       "        }\n",
       "      </script>\n",
       "    </div>\n",
       "  </div>\n",
       "  "
      ],
      "text/plain": [
       "        UNITID                                   INSTNM  TUITIONFEE_IN  year\n",
       "2151    163268  University of Maryland-Baltimore County            NaN  1996\n",
       "9056    163268  University of Maryland-Baltimore County            NaN  1997\n",
       "15923   163268  University of Maryland-Baltimore County            NaN  1998\n",
       "22598   163268  University of Maryland-Baltimore County            NaN  1999\n",
       "29178   163268  University of Maryland-Baltimore County         5490.0  2000\n",
       "35821   163268  University of Maryland-Baltimore County         5910.0  2001\n",
       "42524   163268  University of Maryland-Baltimore County         6362.0  2002\n",
       "49156   163268  University of Maryland-Baltimore County         7388.0  2003\n",
       "55786   163268  University of Maryland-Baltimore County         8020.0  2004\n",
       "62522   163268  University of Maryland-Baltimore County         8520.0  2005\n",
       "69401   163268  University of Maryland-Baltimore County         8622.0  2006\n",
       "76332   163268  University of Maryland-Baltimore County         8708.0  2007\n",
       "83291   163268  University of Maryland-Baltimore County         8780.0  2008\n",
       "90324   163268  University of Maryland-Baltimore County         8872.0  2009\n",
       "97506   163268  University of Maryland-Baltimore County         9171.0  2010\n",
       "104960  163268  University of Maryland-Baltimore County         9467.0  2011\n",
       "112672  163268  University of Maryland-Baltimore County         9764.0  2012\n",
       "120503  163268  University of Maryland-Baltimore County        10068.0  2013\n",
       "128353  163268  University of Maryland-Baltimore County        10384.0  2014\n",
       "136064  163268  University of Maryland-Baltimore County        11006.0  2015\n",
       "143685  163268  University of Maryland-Baltimore County        11264.0  2016\n",
       "150891  163268  University of Maryland-Baltimore County        11518.0  2017\n",
       "157940  163268  University of Maryland-Baltimore County        11778.0  2018\n",
       "164723  163268  University of Maryland-Baltimore County        12028.0  2019\n",
       "171401  163268  University of Maryland-Baltimore County         9420.0  2020"
      ]
     },
     "execution_count": 38,
     "metadata": {},
     "output_type": "execute_result"
    }
   ],
   "source": [
    "#(Write code here)\n",
    "df_all[df_all[\"INSTNM\"].str.contains(\"University of Maryland-Baltimore County\")]"
   ]
  },
  {
   "cell_type": "markdown",
   "metadata": {
    "id": "JEwabb0PjCmT"
   },
   "source": [
    "## Step 10 - Explore the new dataframe\n",
    "\n",
    "For example, # of observations, varibles, head, tail, sample, missing values, statistics, etc"
   ]
  },
  {
   "cell_type": "code",
   "execution_count": null,
   "metadata": {
    "id": "d5X87ugp6zLt"
   },
   "outputs": [],
   "source": [
    "#(Write code here)\n"
   ]
  },
  {
   "cell_type": "markdown",
   "metadata": {
    "id": "yhkk1v-KjNu-"
   },
   "source": [
    "## Step 11 - Plot UMBC's in-state tuition overtime Bar Chart"
   ]
  },
  {
   "cell_type": "code",
   "execution_count": null,
   "metadata": {
    "id": "5Poy4ciz6zLy"
   },
   "outputs": [],
   "source": [
    "#(Write code here)\n"
   ]
  },
  {
   "cell_type": "markdown",
   "metadata": {
    "id": "85qFArw4jXnP"
   },
   "source": [
    "## Step 12 - Plot UMBC's in-state tuition overtime using line Chart"
   ]
  },
  {
   "cell_type": "code",
   "execution_count": null,
   "metadata": {
    "id": "afOQjc1w6zL4"
   },
   "outputs": [],
   "source": [
    "#(Write code here)\n"
   ]
  },
  {
   "cell_type": "markdown",
   "metadata": {
    "id": "5FH2h2_ajlKE"
   },
   "source": [
    "## Step 13 - Tuition Growth Rate\n",
    "\n",
    "Now let's look at the tuition growth rate year over year. We need to calculate UMBC tuition change percentage each year. First convert the TUITIONFEE_IN column to a Python List"
   ]
  },
  {
   "cell_type": "code",
   "execution_count": null,
   "metadata": {
    "id": "xQLB2f7J6zL-"
   },
   "outputs": [],
   "source": [
    "#(Write code here)"
   ]
  },
  {
   "cell_type": "markdown",
   "metadata": {
    "id": "e4OhAzjlj3tw"
   },
   "source": [
    "## Step 14 - Loop through the list and calculate the % change each year over the prior year\n",
    "\n",
    "This takes some effort. Not hard, just some abstract/logical thinking and some experiments. Have fun on this one."
   ]
  },
  {
   "cell_type": "code",
   "execution_count": null,
   "metadata": {
    "id": "LRUyQCtJ6zMB"
   },
   "outputs": [],
   "source": [
    " #(Write code here)"
   ]
  },
  {
   "cell_type": "markdown",
   "metadata": {
    "id": "vLogjxM1kSDH"
   },
   "source": [
    "## Step 15 - Round up the percentage to two decimal points\n",
    "\n",
    "The resulting number has many decimal points which are unnecessary and not visually appealing. You can use for loop. Or better, use list comprehension for simplicity/brevity."
   ]
  },
  {
   "cell_type": "code",
   "execution_count": null,
   "metadata": {
    "id": "9sxMk1hc6zML"
   },
   "outputs": [],
   "source": [
    "#(Write code here)"
   ]
  },
  {
   "cell_type": "markdown",
   "metadata": {
    "id": "cWK8vDitkLpx"
   },
   "source": [
    "## Step 16 - Add the list of the percentages to the dataframe as a new column (\"PCT_CHANGE\")\n",
    "\n",
    "Not as hard as you may think. If you get stuck, you think too hard. Google it and you will find the answer."
   ]
  },
  {
   "cell_type": "code",
   "execution_count": null,
   "metadata": {
    "id": "_04rVaZ16zMR"
   },
   "outputs": [],
   "source": [
    "#(Write code here)"
   ]
  },
  {
   "cell_type": "markdown",
   "metadata": {
    "id": "aVcm3NltknpE"
   },
   "source": [
    "## Step 17 - Finaly, we can make the plot tuition growth rate year over year - bar first, then line chart"
   ]
  },
  {
   "cell_type": "code",
   "execution_count": null,
   "metadata": {
    "id": "5Evbjx-g6zMX"
   },
   "outputs": [],
   "source": [
    "# (write code here)\n",
    "\n"
   ]
  },
  {
   "cell_type": "markdown",
   "metadata": {
    "id": "V1TiCardmjU2"
   },
   "source": [
    "## Step 18 - Define Growth Rate Function\n",
    "\n",
    "Since we want to do the same calculation for JHU. Instead of doing it piecemeal as we did for UMBC. Let's create a function which can be reused for any college. This function takes a list of tuitions and return a list of percentage changes year over year. This function can be used later."
   ]
  },
  {
   "cell_type": "code",
   "execution_count": null,
   "metadata": {
    "id": "eCqEe_646zMc"
   },
   "outputs": [],
   "source": [
    "#(Write code here)\n",
    "\n",
    " "
   ]
  },
  {
   "cell_type": "markdown",
   "metadata": {
    "id": "U2jqd5GYmy3Z"
   },
   "source": [
    "## Step 19 - Get JHU Data\n",
    "\n",
    "The dataframe contains many years of data of all U.S. colleges. Let's just look at JHU. Filter/query the dataframe to retrieve only rows that belong to JHU. Save the JHU data to a new data frame using a new variable so that the old big data frame is still available for later use."
   ]
  },
  {
   "cell_type": "code",
   "execution_count": null,
   "metadata": {
    "id": "f2mhYOjV6zMj"
   },
   "outputs": [],
   "source": [
    "#(Write code here)\n"
   ]
  },
  {
   "cell_type": "markdown",
   "metadata": {
    "id": "VkyEUa6mnKgD"
   },
   "source": [
    "## Step 20 - Plot JHU's in-state tuition overtime\n",
    "\n",
    "Let's plot bar and then line chart."
   ]
  },
  {
   "cell_type": "code",
   "execution_count": null,
   "metadata": {
    "id": "wGXcNTJ46zMo"
   },
   "outputs": [],
   "source": [
    "# <14> \n",
    "# Plot JHU's in-state tuition overtime from 1996 to 2019. \n",
    "# Let's plot bar and line chart together\n",
    "\n",
    "#(Write code here)\n",
    "\n"
   ]
  },
  {
   "cell_type": "markdown",
   "metadata": {
    "id": "wNn0AXexnsxq"
   },
   "source": [
    "## Step 21 - Calculate Tuition Growth Rate using the Function defined earlier\n"
   ]
  },
  {
   "cell_type": "code",
   "execution_count": null,
   "metadata": {
    "id": "q5xcRlLMn4Ap"
   },
   "outputs": [],
   "source": [
    "# Write code here"
   ]
  },
  {
   "cell_type": "markdown",
   "metadata": {
    "id": "HSPcfvsGn8MG"
   },
   "source": [
    "## Step 22 - Add the list of percentage changes to the dataframe as a new column (\"PCT_CHANGE\")"
   ]
  },
  {
   "cell_type": "code",
   "execution_count": null,
   "metadata": {
    "id": "7KM74FQH6zM4"
   },
   "outputs": [],
   "source": [
    "#(Write code here)\n",
    "\n"
   ]
  },
  {
   "cell_type": "markdown",
   "metadata": {
    "id": "LPei7NtpoFFb"
   },
   "source": [
    "## Step 23 - Plot the JHU percentage changes tuitions over time\n",
    "\n",
    "Bar plot first, then line plot."
   ]
  },
  {
   "cell_type": "code",
   "execution_count": null,
   "metadata": {
    "id": "vGi8YI_A6zM7"
   },
   "outputs": [],
   "source": [
    "#(Write code here)\n",
    "\n"
   ]
  },
  {
   "cell_type": "markdown",
   "metadata": {
    "id": "CBHqIJBcoXv-"
   },
   "source": [
    "## Step 24 - Compare UMBC and JHU \n",
    "\n",
    "In order to plot both UMBC and JHU tuition change over time in the same plot, we need to combine the two datasets using the common key of YEAR. \n",
    "\n",
    "First make a umbc2 dataframe with only two columns needed. We don't need other columns. Also change the column name from \"PCT_CHANGE\" to \"UMBC_PCT\" in preparation for the merge. This is because both umbc and jhu dataframe have the same column name \"PCT_CHANGE\", we rename them to there is no collision during the merge. BTW, Pandas handles collision gracefully, Feel free to try it without changing the column names."
   ]
  },
  {
   "cell_type": "code",
   "execution_count": null,
   "metadata": {
    "id": "bGYYULq16zNA"
   },
   "outputs": [],
   "source": [
    "#(Write code here)\n",
    "\n"
   ]
  },
  {
   "cell_type": "markdown",
   "metadata": {
    "id": "W23PSBYmozzi"
   },
   "source": [
    "## Step 25 \n",
    "\n",
    "Then make a jhu2 dataframe with only two columns needed. WE don't need other columns. Also change the column name from \"PCT_CHANGE\" to \"JHU_PCT\"  in preparation for the merge"
   ]
  },
  {
   "cell_type": "code",
   "execution_count": null,
   "metadata": {
    "id": "DX95nFyG6zNF"
   },
   "outputs": [],
   "source": [
    "#(Write code here)\n",
    "\n"
   ]
  },
  {
   "cell_type": "markdown",
   "metadata": {
    "id": "Q19tgEntpBsD"
   },
   "source": [
    "## Step 26 - Merger the two data frames and display the new dataframe"
   ]
  },
  {
   "cell_type": "code",
   "execution_count": null,
   "metadata": {
    "id": "LJ_6wKKU6zNL"
   },
   "outputs": [],
   "source": [
    "#(Write code here)\n",
    "\n"
   ]
  },
  {
   "cell_type": "markdown",
   "metadata": {
    "id": "dWdOJl19pXud"
   },
   "source": [
    "## Step 27 - Plot UMBC and JHU separately on the same line plot "
   ]
  },
  {
   "cell_type": "markdown",
   "metadata": {
    "id": "hyClyzNepVrH"
   },
   "source": []
  },
  {
   "cell_type": "code",
   "execution_count": null,
   "metadata": {
    "id": "Ng3bbP076zNW"
   },
   "outputs": [],
   "source": [
    "#(Write code here)\n",
    "\n"
   ]
  },
  {
   "cell_type": "code",
   "execution_count": null,
   "metadata": {
    "id": "6YNmMkgW6zNv"
   },
   "outputs": [],
   "source": []
  },
  {
   "cell_type": "markdown",
   "metadata": {
    "id": "Pw6GMGUwpjz6"
   },
   "source": [
    "## Step 28 - Document your observation of the comparison plots using the following Markdown cell"
   ]
  },
  {
   "cell_type": "markdown",
   "metadata": {
    "id": "tzeP_v8E6zNz"
   },
   "source": [
    "#### Based on my observation of the plots\n",
    "#### blah, blah \n",
    "#### blah, blah\n",
    "#### ...\n",
    "#### blah, blah"
   ]
  },
  {
   "cell_type": "code",
   "execution_count": null,
   "metadata": {
    "id": "njPmmLLA6zN0"
   },
   "outputs": [],
   "source": [
    "# The end."
   ]
  }
 ],
 "metadata": {
  "colab": {
   "name": "assignment_07.ipynb.txt",
   "provenance": []
  },
  "kernelspec": {
   "display_name": "Python 3",
   "language": "python",
   "name": "python3"
  },
  "language_info": {
   "codemirror_mode": {
    "name": "ipython",
    "version": 3
   },
   "file_extension": ".py",
   "mimetype": "text/x-python",
   "name": "python",
   "nbconvert_exporter": "python",
   "pygments_lexer": "ipython3",
   "version": "3.8.8"
  }
 },
 "nbformat": 4,
 "nbformat_minor": 1
}
