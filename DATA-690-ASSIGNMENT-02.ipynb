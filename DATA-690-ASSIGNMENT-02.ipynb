{
 "cells": [
  {
   "cell_type": "markdown",
   "id": "8fbf0d35",
   "metadata": {},
   "source": [
    "## 1. User to enter 10 integers"
   ]
  },
  {
   "cell_type": "code",
   "execution_count": 1,
   "id": "f711e4cc",
   "metadata": {
    "scrolled": false
   },
   "outputs": [
    {
     "name": "stdout",
     "output_type": "stream",
     "text": [
      "Enter and Integer:56\n",
      "Got Integer 56\n",
      "Enter and Integer:75\n",
      "Got Integer 75\n",
      "Enter and Integer:20\n",
      "Got Integer 20\n",
      "Enter and Integer:50\n",
      "Got Integer 50\n",
      "Enter and Integer:87\n",
      "Got Integer 87\n",
      "Enter and Integer:90\n",
      "Got Integer 90\n",
      "Enter and Integer:10\n",
      "Got Integer 10\n",
      "Enter and Integer:40\n",
      "Got Integer 40\n",
      "Enter and Integer:58\n",
      "Got Integer 58\n",
      "You have Entered the list [56, 75, 20, 50, 87, 90, 10, 40, 58]\n"
     ]
    }
   ],
   "source": [
    "The_List = [ ]\n",
    "for i in range (1,10):\n",
    "    while True:\n",
    "        a = input(\"Enter and Integer:\")\n",
    "        try:\n",
    "            b = int(a)\n",
    "            The_List.append(b)\n",
    "            print(\"Got Integer\",a)\n",
    "            break\n",
    "        except:\n",
    "            print(\"You must enter an integer,Please try again.\")\n",
    "print(\"You have Entered the list\", The_List)"
   ]
  },
  {
   "cell_type": "code",
   "execution_count": 2,
   "id": "a3d48102",
   "metadata": {},
   "outputs": [
    {
     "data": {
      "text/plain": [
       "[56, 75, 20, 50, 87, 90, 10, 40, 58]"
      ]
     },
     "execution_count": 2,
     "metadata": {},
     "output_type": "execute_result"
    }
   ],
   "source": [
    "The_List"
   ]
  },
  {
   "cell_type": "markdown",
   "id": "8d595eb1",
   "metadata": {},
   "source": [
    "## 2. Total Sum of Integers in the list"
   ]
  },
  {
   "cell_type": "code",
   "execution_count": 3,
   "id": "33a06094",
   "metadata": {},
   "outputs": [
    {
     "name": "stdout",
     "output_type": "stream",
     "text": [
      "486\n"
     ]
    }
   ],
   "source": [
    "sum = 0 \n",
    "for n in The_List:\n",
    "    sum += n\n",
    "print(sum)"
   ]
  },
  {
   "cell_type": "markdown",
   "id": "b21b9e97",
   "metadata": {},
   "source": [
    "## 3. Minimum Integer from the List"
   ]
  },
  {
   "cell_type": "code",
   "execution_count": 4,
   "id": "fcf0694f",
   "metadata": {},
   "outputs": [
    {
     "name": "stdout",
     "output_type": "stream",
     "text": [
      "Minimum Integer of the list: 10\n"
     ]
    }
   ],
   "source": [
    "def small( list ):\n",
    "    minimum = list[ 0 ]  \n",
    "    for a in list:       \n",
    "        if a < minimum:\n",
    "            minimum = a  \n",
    "    return minimum\n",
    "x = (small(The_List))\n",
    "print(\"Minimum Integer of the list:\",x)"
   ]
  },
  {
   "cell_type": "markdown",
   "id": "a696e254",
   "metadata": {},
   "source": [
    "## 4. Maximum Integer from the List"
   ]
  },
  {
   "cell_type": "code",
   "execution_count": 5,
   "id": "2d532c6d",
   "metadata": {},
   "outputs": [
    {
     "name": "stdout",
     "output_type": "stream",
     "text": [
      "Maximum Integer of the list: 90\n"
     ]
    }
   ],
   "source": [
    "def large( list ):\n",
    "    maximum = list[ 0 ]\n",
    "    for b in list:\n",
    "        if b > maximum:\n",
    "            maximum = b\n",
    "    return maximum\n",
    "y = (large(The_List))\n",
    "print(\"Maximum Integer of the list:\",y)"
   ]
  },
  {
   "cell_type": "markdown",
   "id": "39a9ab46",
   "metadata": {},
   "source": [
    "## 5. Range of the Integers "
   ]
  },
  {
   "cell_type": "code",
   "execution_count": 6,
   "id": "2709707e",
   "metadata": {},
   "outputs": [
    {
     "name": "stdout",
     "output_type": "stream",
     "text": [
      "Range of the List 80\n"
     ]
    }
   ],
   "source": [
    "Range_list = (y-x)\n",
    "print(\"Range of the List\", Range_list)"
   ]
  },
  {
   "cell_type": "markdown",
   "id": "aecfeb1f",
   "metadata": {},
   "source": [
    "## 6. Mean Of the Integers"
   ]
  },
  {
   "cell_type": "code",
   "execution_count": 7,
   "id": "6c385647",
   "metadata": {},
   "outputs": [
    {
     "name": "stdout",
     "output_type": "stream",
     "text": [
      "Mean of the List 54.0\n"
     ]
    }
   ],
   "source": [
    "Mean = sum/len(The_List)\n",
    "print(\"Mean of the List\",Mean)"
   ]
  },
  {
   "cell_type": "markdown",
   "id": "336c16e7",
   "metadata": {},
   "source": [
    "## 7. Variance "
   ]
  },
  {
   "cell_type": "code",
   "execution_count": 8,
   "id": "97a8c8bb",
   "metadata": {},
   "outputs": [
    {
     "name": "stdout",
     "output_type": "stream",
     "text": [
      "Variance Of The list: 683.3333333333334\n"
     ]
    }
   ],
   "source": [
    "def var(list_1):\n",
    "    total = 0.0\n",
    "    for j in list_1:\n",
    "        total = total + (j - Mean)**2\n",
    "    return total/len(list_1)\n",
    "    \n",
    "\n",
    "print(\"Variance Of The list:\",var(The_List))"
   ]
  },
  {
   "cell_type": "markdown",
   "id": "6f430e8f",
   "metadata": {},
   "source": [
    "## 8.  Standard Deviation"
   ]
  },
  {
   "cell_type": "code",
   "execution_count": 9,
   "id": "ca0ffe52",
   "metadata": {},
   "outputs": [
    {
     "name": "stdout",
     "output_type": "stream",
     "text": [
      "27.726341266023542\n"
     ]
    }
   ],
   "source": [
    "from math import sqrt\n",
    "SUM= 0\n",
    "for k in The_List :\n",
    "     SUM +=(k-Mean)**2\n",
    "\n",
    "\n",
    "\n",
    "stdeV = sqrt(SUM/(len(The_List)-1)) \n",
    "print(stdeV)"
   ]
  }
 ],
 "metadata": {
  "kernelspec": {
   "display_name": "Python 3",
   "language": "python",
   "name": "python3"
  },
  "language_info": {
   "codemirror_mode": {
    "name": "ipython",
    "version": 3
   },
   "file_extension": ".py",
   "mimetype": "text/x-python",
   "name": "python",
   "nbconvert_exporter": "python",
   "pygments_lexer": "ipython3",
   "version": "3.8.8"
  }
 },
 "nbformat": 4,
 "nbformat_minor": 5
}
